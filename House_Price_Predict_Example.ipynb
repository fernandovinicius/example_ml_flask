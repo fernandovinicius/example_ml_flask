{
 "cells": [
  {
   "cell_type": "code",
   "execution_count": 1,
   "id": "22da11bb",
   "metadata": {},
   "outputs": [],
   "source": [
    "import requests"
   ]
  },
  {
   "cell_type": "code",
   "execution_count": 2,
   "id": "a3be0740",
   "metadata": {},
   "outputs": [
    {
     "name": "stdout",
     "output_type": "stream",
     "text": [
      "200 True\n"
     ]
    }
   ],
   "source": [
    "auth = requests.auth.HTTPBasicAuth(\n",
    "    username='john',\n",
    "    password='doe',\n",
    ")\n",
    "\n",
    "data = {\n",
    "    \"tamanho\": 159.0,\n",
    "    \"ano\": 2003,\n",
    "    \"garagem\": 3,\n",
    "}\n",
    "\n",
    "r = requests.post(\n",
    "    url=\"http://127.0.0.1:5000/cotacao\",\n",
    "    json=data,\n",
    "    auth=auth,\n",
    ")\n",
    "\n",
    "print(r.status_code, r.ok)"
   ]
  },
  {
   "cell_type": "code",
   "execution_count": 3,
   "id": "b6c60d8e",
   "metadata": {},
   "outputs": [
    {
     "name": "stdout",
     "output_type": "stream",
     "text": [
      "{'preco': 252546.8}\n"
     ]
    }
   ],
   "source": [
    "print(r.json())"
   ]
  },
  {
   "cell_type": "code",
   "execution_count": null,
   "id": "a0c7b3b9",
   "metadata": {},
   "outputs": [],
   "source": []
  }
 ],
 "metadata": {
  "kernelspec": {
   "display_name": "Python 3 (ipykernel)",
   "language": "python",
   "name": "python3"
  },
  "language_info": {
   "codemirror_mode": {
    "name": "ipython",
    "version": 3
   },
   "file_extension": ".py",
   "mimetype": "text/x-python",
   "name": "python",
   "nbconvert_exporter": "python",
   "pygments_lexer": "ipython3",
   "version": "3.8.10"
  }
 },
 "nbformat": 4,
 "nbformat_minor": 5
}
