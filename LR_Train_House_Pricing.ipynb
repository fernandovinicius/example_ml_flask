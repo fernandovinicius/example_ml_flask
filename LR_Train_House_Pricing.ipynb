{
 "cells": [
  {
   "cell_type": "markdown",
   "id": "096c22e5",
   "metadata": {},
   "source": [
    "# Notebook de Treino de Modelo Regressão Linear  p/ previsão de valores de imóveis"
   ]
  },
  {
   "cell_type": "code",
   "execution_count": 1,
   "id": "c410b655",
   "metadata": {},
   "outputs": [],
   "source": [
    "from sklearn.linear_model import LinearRegression\n",
    "from sklearn.metrics import mean_squared_error, r2_score\n",
    "from sklearn.model_selection import train_test_split\n",
    "from sklearn.preprocessing import StandardScaler\n",
    "\n",
    "import matplotlib.pyplot as plt\n",
    "import pandas as pd\n",
    "import numpy as np\n",
    "import pickle"
   ]
  },
  {
   "cell_type": "markdown",
   "id": "47d86da7",
   "metadata": {},
   "source": [
    "## 1) Carregando Dataset"
   ]
  },
  {
   "cell_type": "code",
   "execution_count": 2,
   "id": "9e6372f5",
   "metadata": {},
   "outputs": [
    {
     "data": {
      "text/html": [
       "<div>\n",
       "<style scoped>\n",
       "    .dataframe tbody tr th:only-of-type {\n",
       "        vertical-align: middle;\n",
       "    }\n",
       "\n",
       "    .dataframe tbody tr th {\n",
       "        vertical-align: top;\n",
       "    }\n",
       "\n",
       "    .dataframe thead th {\n",
       "        text-align: right;\n",
       "    }\n",
       "</style>\n",
       "<table border=\"1\" class=\"dataframe\">\n",
       "  <thead>\n",
       "    <tr style=\"text-align: right;\">\n",
       "      <th></th>\n",
       "      <th>tamanho</th>\n",
       "      <th>ano</th>\n",
       "      <th>garagem</th>\n",
       "      <th>preco</th>\n",
       "    </tr>\n",
       "  </thead>\n",
       "  <tbody>\n",
       "    <tr>\n",
       "      <th>0</th>\n",
       "      <td>159.0</td>\n",
       "      <td>2003</td>\n",
       "      <td>2</td>\n",
       "      <td>208500</td>\n",
       "    </tr>\n",
       "    <tr>\n",
       "      <th>1</th>\n",
       "      <td>117.0</td>\n",
       "      <td>1976</td>\n",
       "      <td>2</td>\n",
       "      <td>181500</td>\n",
       "    </tr>\n",
       "    <tr>\n",
       "      <th>2</th>\n",
       "      <td>166.0</td>\n",
       "      <td>2001</td>\n",
       "      <td>2</td>\n",
       "      <td>223500</td>\n",
       "    </tr>\n",
       "    <tr>\n",
       "      <th>3</th>\n",
       "      <td>160.0</td>\n",
       "      <td>1915</td>\n",
       "      <td>3</td>\n",
       "      <td>140000</td>\n",
       "    </tr>\n",
       "    <tr>\n",
       "      <th>4</th>\n",
       "      <td>204.0</td>\n",
       "      <td>2000</td>\n",
       "      <td>3</td>\n",
       "      <td>250000</td>\n",
       "    </tr>\n",
       "  </tbody>\n",
       "</table>\n",
       "</div>"
      ],
      "text/plain": [
       "   tamanho   ano  garagem   preco\n",
       "0    159.0  2003        2  208500\n",
       "1    117.0  1976        2  181500\n",
       "2    166.0  2001        2  223500\n",
       "3    160.0  1915        3  140000\n",
       "4    204.0  2000        3  250000"
      ]
     },
     "execution_count": 2,
     "metadata": {},
     "output_type": "execute_result"
    }
   ],
   "source": [
    "df = pd.read_csv('dataset/casas.csv')\n",
    "df.head()"
   ]
  },
  {
   "cell_type": "markdown",
   "id": "79cd2f44",
   "metadata": {},
   "source": [
    "#### Vericando tipo e quantidade de atributos"
   ]
  },
  {
   "cell_type": "code",
   "execution_count": 3,
   "id": "351ed10d",
   "metadata": {},
   "outputs": [
    {
     "name": "stdout",
     "output_type": "stream",
     "text": [
      "<class 'pandas.core.frame.DataFrame'>\n",
      "RangeIndex: 1460 entries, 0 to 1459\n",
      "Data columns (total 4 columns):\n",
      " #   Column   Non-Null Count  Dtype  \n",
      "---  ------   --------------  -----  \n",
      " 0   tamanho  1460 non-null   float64\n",
      " 1   ano      1460 non-null   int64  \n",
      " 2   garagem  1460 non-null   int64  \n",
      " 3   preco    1460 non-null   int64  \n",
      "dtypes: float64(1), int64(3)\n",
      "memory usage: 45.8 KB\n"
     ]
    }
   ],
   "source": [
    "df.info()"
   ]
  },
  {
   "cell_type": "markdown",
   "id": "8108ff60",
   "metadata": {},
   "source": [
    "#### Exibindo uma estatistica descriva da base"
   ]
  },
  {
   "cell_type": "code",
   "execution_count": 4,
   "id": "44096ffe",
   "metadata": {},
   "outputs": [
    {
     "data": {
      "text/html": [
       "<div>\n",
       "<style scoped>\n",
       "    .dataframe tbody tr th:only-of-type {\n",
       "        vertical-align: middle;\n",
       "    }\n",
       "\n",
       "    .dataframe tbody tr th {\n",
       "        vertical-align: top;\n",
       "    }\n",
       "\n",
       "    .dataframe thead th {\n",
       "        text-align: right;\n",
       "    }\n",
       "</style>\n",
       "<table border=\"1\" class=\"dataframe\">\n",
       "  <thead>\n",
       "    <tr style=\"text-align: right;\">\n",
       "      <th></th>\n",
       "      <th>tamanho</th>\n",
       "      <th>ano</th>\n",
       "      <th>garagem</th>\n",
       "      <th>preco</th>\n",
       "    </tr>\n",
       "  </thead>\n",
       "  <tbody>\n",
       "    <tr>\n",
       "      <th>count</th>\n",
       "      <td>1460.00</td>\n",
       "      <td>1460.00</td>\n",
       "      <td>1460.00</td>\n",
       "      <td>1460.0</td>\n",
       "    </tr>\n",
       "    <tr>\n",
       "      <th>mean</th>\n",
       "      <td>140.80</td>\n",
       "      <td>1971.27</td>\n",
       "      <td>1.77</td>\n",
       "      <td>180921.2</td>\n",
       "    </tr>\n",
       "    <tr>\n",
       "      <th>std</th>\n",
       "      <td>48.82</td>\n",
       "      <td>30.20</td>\n",
       "      <td>0.75</td>\n",
       "      <td>79442.5</td>\n",
       "    </tr>\n",
       "    <tr>\n",
       "      <th>min</th>\n",
       "      <td>31.00</td>\n",
       "      <td>1872.00</td>\n",
       "      <td>0.00</td>\n",
       "      <td>34900.0</td>\n",
       "    </tr>\n",
       "    <tr>\n",
       "      <th>25%</th>\n",
       "      <td>105.00</td>\n",
       "      <td>1954.00</td>\n",
       "      <td>1.00</td>\n",
       "      <td>129975.0</td>\n",
       "    </tr>\n",
       "    <tr>\n",
       "      <th>50%</th>\n",
       "      <td>136.00</td>\n",
       "      <td>1973.00</td>\n",
       "      <td>2.00</td>\n",
       "      <td>163000.0</td>\n",
       "    </tr>\n",
       "    <tr>\n",
       "      <th>75%</th>\n",
       "      <td>165.00</td>\n",
       "      <td>2000.00</td>\n",
       "      <td>2.00</td>\n",
       "      <td>214000.0</td>\n",
       "    </tr>\n",
       "    <tr>\n",
       "      <th>max</th>\n",
       "      <td>524.00</td>\n",
       "      <td>2010.00</td>\n",
       "      <td>4.00</td>\n",
       "      <td>755000.0</td>\n",
       "    </tr>\n",
       "  </tbody>\n",
       "</table>\n",
       "</div>"
      ],
      "text/plain": [
       "       tamanho      ano  garagem     preco\n",
       "count  1460.00  1460.00  1460.00    1460.0\n",
       "mean    140.80  1971.27     1.77  180921.2\n",
       "std      48.82    30.20     0.75   79442.5\n",
       "min      31.00  1872.00     0.00   34900.0\n",
       "25%     105.00  1954.00     1.00  129975.0\n",
       "50%     136.00  1973.00     2.00  163000.0\n",
       "75%     165.00  2000.00     2.00  214000.0\n",
       "max     524.00  2010.00     4.00  755000.0"
      ]
     },
     "execution_count": 4,
     "metadata": {},
     "output_type": "execute_result"
    }
   ],
   "source": [
    "df.describe().round(2)"
   ]
  },
  {
   "cell_type": "markdown",
   "id": "9ed46187",
   "metadata": {},
   "source": [
    "## 2) Separando Atributos Descritivos e Alvo"
   ]
  },
  {
   "cell_type": "code",
   "execution_count": 5,
   "id": "c466084e",
   "metadata": {},
   "outputs": [
    {
     "name": "stdout",
     "output_type": "stream",
     "text": [
      "(1460, 3) (1460,)\n"
     ]
    }
   ],
   "source": [
    "features = list(df.drop(columns=['preco']).columns.values)\n",
    "target = 'preco'\n",
    "\n",
    "X = df[features].values\n",
    "y = df[target].values\n",
    "\n",
    "print(X.shape, y.shape)"
   ]
  },
  {
   "cell_type": "markdown",
   "id": "413d102c",
   "metadata": {},
   "source": [
    "## 3) Dividindo o dataset em subconjuntos de treino e de teste"
   ]
  },
  {
   "cell_type": "code",
   "execution_count": 6,
   "id": "8254990f",
   "metadata": {},
   "outputs": [
    {
     "name": "stdout",
     "output_type": "stream",
     "text": [
      "(1168, 3) (1168,)\n",
      "(292, 3) (292,)\n"
     ]
    }
   ],
   "source": [
    "X_train, X_test, y_train, y_test = train_test_split(\n",
    "    X, y,\n",
    "    test_size=0.2,\n",
    "    random_state=123,\n",
    "    shuffle=True,\n",
    ")\n",
    "\n",
    "print(X_train.shape, y_train.shape)\n",
    "print(X_test.shape, y_test.shape)"
   ]
  },
  {
   "cell_type": "markdown",
   "id": "bc4369c5",
   "metadata": {},
   "source": [
    "#### Escalonando Atributos Preditivos"
   ]
  },
  {
   "cell_type": "code",
   "execution_count": 7,
   "id": "dfb0f6b1",
   "metadata": {},
   "outputs": [],
   "source": [
    "scaler = StandardScaler()\n",
    "X_train = scaler.fit_transform(X_train)\n",
    "X_test = scaler.transform(X_test)"
   ]
  },
  {
   "cell_type": "markdown",
   "id": "721c8ffd",
   "metadata": {},
   "source": [
    "## 4) Instanciando Modelo de RLM"
   ]
  },
  {
   "cell_type": "code",
   "execution_count": 8,
   "id": "8a92d968",
   "metadata": {},
   "outputs": [
    {
     "data": {
      "text/plain": [
       "LinearRegression()"
      ]
     },
     "execution_count": 8,
     "metadata": {},
     "output_type": "execute_result"
    }
   ],
   "source": [
    "model = LinearRegression()\n",
    "model"
   ]
  },
  {
   "cell_type": "markdown",
   "id": "554c020a",
   "metadata": {},
   "source": [
    "#### Ajuste do Modelo com a base de Treino"
   ]
  },
  {
   "cell_type": "code",
   "execution_count": 9,
   "id": "8ba9bf68",
   "metadata": {},
   "outputs": [
    {
     "data": {
      "text/plain": [
       "LinearRegression()"
      ]
     },
     "execution_count": 9,
     "metadata": {},
     "output_type": "execute_result"
    }
   ],
   "source": [
    "model.fit(X=X_train, y=y_train)\n",
    "model"
   ]
  },
  {
   "cell_type": "markdown",
   "id": "df172464",
   "metadata": {},
   "source": [
    "#### Parâmetros Ajustados"
   ]
  },
  {
   "cell_type": "code",
   "execution_count": 10,
   "id": "77b70a34",
   "metadata": {},
   "outputs": [
    {
     "data": {
      "text/plain": [
       "array([42151.20471116, 24014.20261195, 18934.28162939])"
      ]
     },
     "execution_count": 10,
     "metadata": {},
     "output_type": "execute_result"
    }
   ],
   "source": [
    "model.coef_"
   ]
  },
  {
   "cell_type": "code",
   "execution_count": 11,
   "id": "0569de6d",
   "metadata": {},
   "outputs": [
    {
     "data": {
      "text/plain": [
       "180717.06934931516"
      ]
     },
     "execution_count": 11,
     "metadata": {},
     "output_type": "execute_result"
    }
   ],
   "source": [
    "model.intercept_"
   ]
  },
  {
   "cell_type": "markdown",
   "id": "523e9323",
   "metadata": {},
   "source": [
    "## 5) Verificando Assertividade do Modelo Ajustado"
   ]
  },
  {
   "cell_type": "markdown",
   "id": "e2a8122e",
   "metadata": {},
   "source": [
    "#### Assertividade na Base de Treino"
   ]
  },
  {
   "cell_type": "code",
   "execution_count": 12,
   "id": "db12b018",
   "metadata": {},
   "outputs": [],
   "source": [
    "y_train_pred = model.predict(X_train)\n",
    "\n",
    "rmse_train = mean_squared_error(y_true=y_train, y_pred=y_train_pred, squared=False)\n",
    "r2_train = r2_score(y_true=y_train, y_pred=y_train_pred)"
   ]
  },
  {
   "cell_type": "markdown",
   "id": "dce2f27e",
   "metadata": {},
   "source": [
    "#### Assertividade na Base de Teste"
   ]
  },
  {
   "cell_type": "code",
   "execution_count": 13,
   "id": "810f7265",
   "metadata": {},
   "outputs": [],
   "source": [
    "y_test_pred = model.predict(X_test)\n",
    "\n",
    "rmse_test = mean_squared_error(y_true=y_test, y_pred=y_test_pred, squared=False)\n",
    "r2_test = r2_score(y_true=y_test, y_pred=y_test_pred)"
   ]
  },
  {
   "cell_type": "code",
   "execution_count": 14,
   "id": "f2e15e60",
   "metadata": {},
   "outputs": [
    {
     "name": "stdout",
     "output_type": "stream",
     "text": [
      " >> Assertividade do Modelo Ajustado nas Bases:\n",
      "\n",
      "    Treino:\n",
      "   - RMSE: 45229.794\n",
      "   - R2:   0.677\n",
      "\n",
      "    Teste:\n",
      "   - RMSE: 42263.745\n",
      "   - R2:   0.711\n"
     ]
    }
   ],
   "source": [
    "print(' >> Assertividade do Modelo Ajustado nas Bases:')\n",
    "print()\n",
    "print('    Treino:')\n",
    "print(f'   - RMSE: {rmse_train:.3f}')\n",
    "print(f'   - R2:   {r2_train:.3f}')\n",
    "print()\n",
    "print('    Teste:')\n",
    "print(f'   - RMSE: {rmse_test:.3f}')\n",
    "print(f'   - R2:   {r2_test:.3f}')"
   ]
  },
  {
   "cell_type": "markdown",
   "id": "57d9ec73",
   "metadata": {},
   "source": [
    "## 6) Salvando Modelo Ajustado"
   ]
  },
  {
   "cell_type": "code",
   "execution_count": 15,
   "id": "05f20580",
   "metadata": {},
   "outputs": [],
   "source": [
    "with open(file='model/lr_model.pkl', mode='wb') as fp:\n",
    "    pickle.dump(obj=[model, scaler, features], file=fp)"
   ]
  },
  {
   "cell_type": "code",
   "execution_count": null,
   "id": "e7315918",
   "metadata": {},
   "outputs": [],
   "source": []
  }
 ],
 "metadata": {
  "kernelspec": {
   "display_name": "Python 3 (ipykernel)",
   "language": "python",
   "name": "python3"
  },
  "language_info": {
   "codemirror_mode": {
    "name": "ipython",
    "version": 3
   },
   "file_extension": ".py",
   "mimetype": "text/x-python",
   "name": "python",
   "nbconvert_exporter": "python",
   "pygments_lexer": "ipython3",
   "version": "3.8.10"
  }
 },
 "nbformat": 4,
 "nbformat_minor": 5
}
